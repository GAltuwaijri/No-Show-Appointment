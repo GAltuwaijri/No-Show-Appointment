{
 "cells": [
  {
   "cell_type": "markdown",
   "metadata": {},
   "source": [
    "\n",
    "\n",
    "\n",
    "\n",
    "\n",
    "# Medical Appointment No Shows \n",
    "### *GHAIDA S. ALTUWAIJRI*\n",
    "### *May 21, 2020*"
   ]
  },
  {
   "cell_type": "markdown",
   "metadata": {},
   "source": [
    "\n",
    "## Table of Contents\n",
    "<ul>\n",
    "<li><a href=\"#intro\">Introduction</a></li>\n",
    "<li><a href=\"#wrangling\">Data Wrangling</a></li>\n",
    "<li><a href=\"#eda\">Exploratory Data Analysis</a></li>\n",
    "<li><a href=\"#conclusions\">Conclusions</a></li>\n",
    "<li><a href=\"#bibliography\">Bibliography</a></li>    \n",
    "</ul>"
   ]
  },
  {
   "cell_type": "markdown",
   "metadata": {},
   "source": [
    "<a id='intro'></a>\n",
    "## Introduction\n",
    "\n",
    "This dataset collects information from 100k medical appointments inBrazil and is focused on the question of whether or not patients showup for their appointment. A number of characteristics about the patient are included in each row.\n",
    "- ‘ScheduledDay’ tells us on what day the patient set up their appointment.\n",
    "- ‘Neighborhood’ indicates the location of the hospital.\n",
    "- ‘Scholarship’ indicates whether or not the patient isenrolled in Brasilian welfare program Bolsa Família.\n",
    "- the last column says ‘No’ if the patient showed up to their appointment, and ‘Yes’ if they did not show up\n",
    "\n",
    "On this project, we aimed to explore the 'Medical Appointment No Shows' dataset from Kaggle and finding answers for these questions:\n",
    "- what is the percentage of attending or not attending the appointments?\n",
    "- which gender have more commitment to attend the appointment?\n",
    "- Does age affect the attendance of appointments?\n",
    "- Is sending reminder messages help the patient to remember and attend the appointments?\n",
    "- Is scheduling the appointment long time before will affect attending?\n",
    "- What factors are important for us to know in order to predict if a patient will show up for their scheduled appointment?"
   ]
  },
  {
   "cell_type": "code",
   "execution_count": 38,
   "metadata": {},
   "outputs": [],
   "source": [
    "import pandas as pd\n",
    "import numpy as np\n",
    "import matplotlib.pyplot as plt\n",
    "%matplotlib inline\n",
    "import seaborn as sn\n",
    "\n",
    "import csv\n",
    "from datetime import datetime as dt\n",
    "from collections import defaultdict\n",
    "import matplotlib.pyplot as plt\n",
    "%matplotlib inline"
   ]
  },
  {
   "cell_type": "markdown",
   "metadata": {},
   "source": [
    "<a id='wrangling'></a>\n",
    "## Data Wrangling\n",
    "\n",
    "### General Properties"
   ]
  },
  {
   "cell_type": "code",
   "execution_count": 4,
   "metadata": {},
   "outputs": [],
   "source": [
    "#loading the dataset \n",
    "nsa = pd.read_csv('NoShowAppointments-kagglev2-may-2016.csv' , \\\n",
    "                        parse_dates=['ScheduledDay', 'AppointmentDay']) "
   ]
  },
  {
   "cell_type": "code",
   "execution_count": 5,
   "metadata": {},
   "outputs": [
    {
     "data": {
      "text/html": [
       "<div>\n",
       "<style scoped>\n",
       "    .dataframe tbody tr th:only-of-type {\n",
       "        vertical-align: middle;\n",
       "    }\n",
       "\n",
       "    .dataframe tbody tr th {\n",
       "        vertical-align: top;\n",
       "    }\n",
       "\n",
       "    .dataframe thead th {\n",
       "        text-align: right;\n",
       "    }\n",
       "</style>\n",
       "<table border=\"1\" class=\"dataframe\">\n",
       "  <thead>\n",
       "    <tr style=\"text-align: right;\">\n",
       "      <th></th>\n",
       "      <th>PatientId</th>\n",
       "      <th>AppointmentID</th>\n",
       "      <th>Gender</th>\n",
       "      <th>ScheduledDay</th>\n",
       "      <th>AppointmentDay</th>\n",
       "      <th>Age</th>\n",
       "      <th>Neighbourhood</th>\n",
       "      <th>Scholarship</th>\n",
       "      <th>Hipertension</th>\n",
       "      <th>Diabetes</th>\n",
       "      <th>Alcoholism</th>\n",
       "      <th>Handcap</th>\n",
       "      <th>SMS_received</th>\n",
       "      <th>No-show</th>\n",
       "    </tr>\n",
       "  </thead>\n",
       "  <tbody>\n",
       "    <tr>\n",
       "      <th>0</th>\n",
       "      <td>2.987250e+13</td>\n",
       "      <td>5642903</td>\n",
       "      <td>F</td>\n",
       "      <td>2016-04-29 18:38:08+00:00</td>\n",
       "      <td>2016-04-29 00:00:00+00:00</td>\n",
       "      <td>62</td>\n",
       "      <td>JARDIM DA PENHA</td>\n",
       "      <td>0</td>\n",
       "      <td>1</td>\n",
       "      <td>0</td>\n",
       "      <td>0</td>\n",
       "      <td>0</td>\n",
       "      <td>0</td>\n",
       "      <td>No</td>\n",
       "    </tr>\n",
       "    <tr>\n",
       "      <th>1</th>\n",
       "      <td>5.589978e+14</td>\n",
       "      <td>5642503</td>\n",
       "      <td>M</td>\n",
       "      <td>2016-04-29 16:08:27+00:00</td>\n",
       "      <td>2016-04-29 00:00:00+00:00</td>\n",
       "      <td>56</td>\n",
       "      <td>JARDIM DA PENHA</td>\n",
       "      <td>0</td>\n",
       "      <td>0</td>\n",
       "      <td>0</td>\n",
       "      <td>0</td>\n",
       "      <td>0</td>\n",
       "      <td>0</td>\n",
       "      <td>No</td>\n",
       "    </tr>\n",
       "    <tr>\n",
       "      <th>2</th>\n",
       "      <td>4.262962e+12</td>\n",
       "      <td>5642549</td>\n",
       "      <td>F</td>\n",
       "      <td>2016-04-29 16:19:04+00:00</td>\n",
       "      <td>2016-04-29 00:00:00+00:00</td>\n",
       "      <td>62</td>\n",
       "      <td>MATA DA PRAIA</td>\n",
       "      <td>0</td>\n",
       "      <td>0</td>\n",
       "      <td>0</td>\n",
       "      <td>0</td>\n",
       "      <td>0</td>\n",
       "      <td>0</td>\n",
       "      <td>No</td>\n",
       "    </tr>\n",
       "    <tr>\n",
       "      <th>3</th>\n",
       "      <td>8.679512e+11</td>\n",
       "      <td>5642828</td>\n",
       "      <td>F</td>\n",
       "      <td>2016-04-29 17:29:31+00:00</td>\n",
       "      <td>2016-04-29 00:00:00+00:00</td>\n",
       "      <td>8</td>\n",
       "      <td>PONTAL DE CAMBURI</td>\n",
       "      <td>0</td>\n",
       "      <td>0</td>\n",
       "      <td>0</td>\n",
       "      <td>0</td>\n",
       "      <td>0</td>\n",
       "      <td>0</td>\n",
       "      <td>No</td>\n",
       "    </tr>\n",
       "    <tr>\n",
       "      <th>4</th>\n",
       "      <td>8.841186e+12</td>\n",
       "      <td>5642494</td>\n",
       "      <td>F</td>\n",
       "      <td>2016-04-29 16:07:23+00:00</td>\n",
       "      <td>2016-04-29 00:00:00+00:00</td>\n",
       "      <td>56</td>\n",
       "      <td>JARDIM DA PENHA</td>\n",
       "      <td>0</td>\n",
       "      <td>1</td>\n",
       "      <td>1</td>\n",
       "      <td>0</td>\n",
       "      <td>0</td>\n",
       "      <td>0</td>\n",
       "      <td>No</td>\n",
       "    </tr>\n",
       "  </tbody>\n",
       "</table>\n",
       "</div>"
      ],
      "text/plain": [
       "      PatientId  AppointmentID Gender              ScheduledDay  \\\n",
       "0  2.987250e+13        5642903      F 2016-04-29 18:38:08+00:00   \n",
       "1  5.589978e+14        5642503      M 2016-04-29 16:08:27+00:00   \n",
       "2  4.262962e+12        5642549      F 2016-04-29 16:19:04+00:00   \n",
       "3  8.679512e+11        5642828      F 2016-04-29 17:29:31+00:00   \n",
       "4  8.841186e+12        5642494      F 2016-04-29 16:07:23+00:00   \n",
       "\n",
       "             AppointmentDay  Age      Neighbourhood  Scholarship  \\\n",
       "0 2016-04-29 00:00:00+00:00   62    JARDIM DA PENHA            0   \n",
       "1 2016-04-29 00:00:00+00:00   56    JARDIM DA PENHA            0   \n",
       "2 2016-04-29 00:00:00+00:00   62      MATA DA PRAIA            0   \n",
       "3 2016-04-29 00:00:00+00:00    8  PONTAL DE CAMBURI            0   \n",
       "4 2016-04-29 00:00:00+00:00   56    JARDIM DA PENHA            0   \n",
       "\n",
       "   Hipertension  Diabetes  Alcoholism  Handcap  SMS_received No-show  \n",
       "0             1         0           0        0             0      No  \n",
       "1             0         0           0        0             0      No  \n",
       "2             0         0           0        0             0      No  \n",
       "3             0         0           0        0             0      No  \n",
       "4             1         1           0        0             0      No  "
      ]
     },
     "execution_count": 5,
     "metadata": {},
     "output_type": "execute_result"
    }
   ],
   "source": [
    "nsa.head()"
   ]
  },
  {
   "cell_type": "code",
   "execution_count": 6,
   "metadata": {},
   "outputs": [],
   "source": [
    "#Removing the Unneeded columns\n",
    "columns = ['Neighbourhood', 'Scholarship', 'Hipertension', 'Diabetes', 'Alcoholism', 'Handcap']\n",
    "nsa.drop(columns, inplace=True, axis=1)"
   ]
  },
  {
   "cell_type": "code",
   "execution_count": 7,
   "metadata": {},
   "outputs": [],
   "source": [
    "# Rename for 'No-show', 'SMS_received' and 'NoShow'.\n",
    "nsa.rename(columns={ 'No-show' : 'NoShow' }, inplace = True) \n",
    "nsa.rename(columns={ 'SMS_received' : 'SMSReceived' }, inplace = True) \n",
    "nsa.rename(columns={ 'NoShow' : 'Show' }, inplace = True) "
   ]
  },
  {
   "cell_type": "code",
   "execution_count": 8,
   "metadata": {},
   "outputs": [],
   "source": [
    "# Removing the time from 'ScheduledDay' and 'AppointmentDay'\n",
    "nsa['AppointmentDay'] = pd.to_datetime(nsa['AppointmentDay']).dt.date\n",
    "nsa['ScheduledDay'] = pd.to_datetime(nsa['ScheduledDay']).dt.date\n",
    "\n",
    "# Creating new column with deference between 'ScheduledDay' and AppointmentDay.\n",
    "SAdifferents = nsa[\"AppointmentDay\"] - nsa[\"ScheduledDay\"]\n",
    "nsa[\"ScheduledToAppointment\"] = SAdifferents\n",
    "# Convert the new column to integer type.\n",
    "nsa['ScheduledToAppointment'] = pd.to_numeric(nsa['ScheduledToAppointment'].dt.days, downcast='integer')"
   ]
  },
  {
   "cell_type": "code",
   "execution_count": 9,
   "metadata": {},
   "outputs": [],
   "source": [
    "# For the show column, We will replace No with 1 and yes with 0, And covert it to integar type.\n",
    "nsa['Show'] = nsa['Show'].replace( 'No', 1)\n",
    "nsa['Show'] = nsa['Show'].replace( 'Yes', 0)\n",
    "nsa.Show = nsa.Show.astype(int)"
   ]
  },
  {
   "cell_type": "code",
   "execution_count": 10,
   "metadata": {},
   "outputs": [
    {
     "data": {
      "text/plain": [
       "PatientId                 float64\n",
       "AppointmentID               int64\n",
       "Gender                     object\n",
       "ScheduledDay               object\n",
       "AppointmentDay             object\n",
       "Age                         int64\n",
       "SMSReceived                 int64\n",
       "Show                        int64\n",
       "ScheduledToAppointment      int16\n",
       "dtype: object"
      ]
     },
     "execution_count": 10,
     "metadata": {},
     "output_type": "execute_result"
    }
   ],
   "source": [
    "nsa.dtypes"
   ]
  },
  {
   "cell_type": "code",
   "execution_count": 11,
   "metadata": {},
   "outputs": [],
   "source": [
    "# Changing the types of 'PatientId' and 'AppointmentID' to String\n",
    "nsa.PatientId = nsa.PatientId.astype(str)\n",
    "nsa.AppointmentID = nsa.AppointmentID.astype(str)"
   ]
  },
  {
   "cell_type": "code",
   "execution_count": 12,
   "metadata": {},
   "outputs": [
    {
     "data": {
      "text/html": [
       "<div>\n",
       "<style scoped>\n",
       "    .dataframe tbody tr th:only-of-type {\n",
       "        vertical-align: middle;\n",
       "    }\n",
       "\n",
       "    .dataframe tbody tr th {\n",
       "        vertical-align: top;\n",
       "    }\n",
       "\n",
       "    .dataframe thead th {\n",
       "        text-align: right;\n",
       "    }\n",
       "</style>\n",
       "<table border=\"1\" class=\"dataframe\">\n",
       "  <thead>\n",
       "    <tr style=\"text-align: right;\">\n",
       "      <th></th>\n",
       "      <th>PatientId</th>\n",
       "      <th>AppointmentID</th>\n",
       "      <th>Gender</th>\n",
       "      <th>ScheduledDay</th>\n",
       "      <th>AppointmentDay</th>\n",
       "      <th>Age</th>\n",
       "      <th>SMSReceived</th>\n",
       "      <th>Show</th>\n",
       "      <th>ScheduledToAppointment</th>\n",
       "    </tr>\n",
       "  </thead>\n",
       "  <tbody>\n",
       "    <tr>\n",
       "      <th>0</th>\n",
       "      <td>29872499824296.0</td>\n",
       "      <td>5642903</td>\n",
       "      <td>F</td>\n",
       "      <td>2016-04-29</td>\n",
       "      <td>2016-04-29</td>\n",
       "      <td>62</td>\n",
       "      <td>0</td>\n",
       "      <td>1</td>\n",
       "      <td>0</td>\n",
       "    </tr>\n",
       "    <tr>\n",
       "      <th>1</th>\n",
       "      <td>558997776694438.0</td>\n",
       "      <td>5642503</td>\n",
       "      <td>M</td>\n",
       "      <td>2016-04-29</td>\n",
       "      <td>2016-04-29</td>\n",
       "      <td>56</td>\n",
       "      <td>0</td>\n",
       "      <td>1</td>\n",
       "      <td>0</td>\n",
       "    </tr>\n",
       "    <tr>\n",
       "      <th>2</th>\n",
       "      <td>4262962299951.0</td>\n",
       "      <td>5642549</td>\n",
       "      <td>F</td>\n",
       "      <td>2016-04-29</td>\n",
       "      <td>2016-04-29</td>\n",
       "      <td>62</td>\n",
       "      <td>0</td>\n",
       "      <td>1</td>\n",
       "      <td>0</td>\n",
       "    </tr>\n",
       "    <tr>\n",
       "      <th>3</th>\n",
       "      <td>867951213174.0</td>\n",
       "      <td>5642828</td>\n",
       "      <td>F</td>\n",
       "      <td>2016-04-29</td>\n",
       "      <td>2016-04-29</td>\n",
       "      <td>8</td>\n",
       "      <td>0</td>\n",
       "      <td>1</td>\n",
       "      <td>0</td>\n",
       "    </tr>\n",
       "    <tr>\n",
       "      <th>4</th>\n",
       "      <td>8841186448183.0</td>\n",
       "      <td>5642494</td>\n",
       "      <td>F</td>\n",
       "      <td>2016-04-29</td>\n",
       "      <td>2016-04-29</td>\n",
       "      <td>56</td>\n",
       "      <td>0</td>\n",
       "      <td>1</td>\n",
       "      <td>0</td>\n",
       "    </tr>\n",
       "    <tr>\n",
       "      <th>5</th>\n",
       "      <td>95985133231274.0</td>\n",
       "      <td>5626772</td>\n",
       "      <td>F</td>\n",
       "      <td>2016-04-27</td>\n",
       "      <td>2016-04-29</td>\n",
       "      <td>76</td>\n",
       "      <td>0</td>\n",
       "      <td>1</td>\n",
       "      <td>2</td>\n",
       "    </tr>\n",
       "    <tr>\n",
       "      <th>6</th>\n",
       "      <td>733688164476661.0</td>\n",
       "      <td>5630279</td>\n",
       "      <td>F</td>\n",
       "      <td>2016-04-27</td>\n",
       "      <td>2016-04-29</td>\n",
       "      <td>23</td>\n",
       "      <td>0</td>\n",
       "      <td>0</td>\n",
       "      <td>2</td>\n",
       "    </tr>\n",
       "    <tr>\n",
       "      <th>7</th>\n",
       "      <td>3449833394123.0</td>\n",
       "      <td>5630575</td>\n",
       "      <td>F</td>\n",
       "      <td>2016-04-27</td>\n",
       "      <td>2016-04-29</td>\n",
       "      <td>39</td>\n",
       "      <td>0</td>\n",
       "      <td>0</td>\n",
       "      <td>2</td>\n",
       "    </tr>\n",
       "    <tr>\n",
       "      <th>8</th>\n",
       "      <td>56394729949972.0</td>\n",
       "      <td>5638447</td>\n",
       "      <td>F</td>\n",
       "      <td>2016-04-29</td>\n",
       "      <td>2016-04-29</td>\n",
       "      <td>21</td>\n",
       "      <td>0</td>\n",
       "      <td>1</td>\n",
       "      <td>0</td>\n",
       "    </tr>\n",
       "    <tr>\n",
       "      <th>9</th>\n",
       "      <td>78124564369297.0</td>\n",
       "      <td>5629123</td>\n",
       "      <td>F</td>\n",
       "      <td>2016-04-27</td>\n",
       "      <td>2016-04-29</td>\n",
       "      <td>19</td>\n",
       "      <td>0</td>\n",
       "      <td>1</td>\n",
       "      <td>2</td>\n",
       "    </tr>\n",
       "  </tbody>\n",
       "</table>\n",
       "</div>"
      ],
      "text/plain": [
       "           PatientId AppointmentID Gender ScheduledDay AppointmentDay  Age  \\\n",
       "0   29872499824296.0       5642903      F   2016-04-29     2016-04-29   62   \n",
       "1  558997776694438.0       5642503      M   2016-04-29     2016-04-29   56   \n",
       "2    4262962299951.0       5642549      F   2016-04-29     2016-04-29   62   \n",
       "3     867951213174.0       5642828      F   2016-04-29     2016-04-29    8   \n",
       "4    8841186448183.0       5642494      F   2016-04-29     2016-04-29   56   \n",
       "5   95985133231274.0       5626772      F   2016-04-27     2016-04-29   76   \n",
       "6  733688164476661.0       5630279      F   2016-04-27     2016-04-29   23   \n",
       "7    3449833394123.0       5630575      F   2016-04-27     2016-04-29   39   \n",
       "8   56394729949972.0       5638447      F   2016-04-29     2016-04-29   21   \n",
       "9   78124564369297.0       5629123      F   2016-04-27     2016-04-29   19   \n",
       "\n",
       "   SMSReceived  Show  ScheduledToAppointment  \n",
       "0            0     1                       0  \n",
       "1            0     1                       0  \n",
       "2            0     1                       0  \n",
       "3            0     1                       0  \n",
       "4            0     1                       0  \n",
       "5            0     1                       2  \n",
       "6            0     0                       2  \n",
       "7            0     0                       2  \n",
       "8            0     1                       0  \n",
       "9            0     1                       2  "
      ]
     },
     "execution_count": 12,
     "metadata": {},
     "output_type": "execute_result"
    }
   ],
   "source": [
    "nsa.head(10)"
   ]
  },
  {
   "cell_type": "code",
   "execution_count": 13,
   "metadata": {},
   "outputs": [
    {
     "name": "stdout",
     "output_type": "stream",
     "text": [
      "<class 'pandas.core.frame.DataFrame'>\n",
      "RangeIndex: 110527 entries, 0 to 110526\n",
      "Data columns (total 9 columns):\n",
      " #   Column                  Non-Null Count   Dtype \n",
      "---  ------                  --------------   ----- \n",
      " 0   PatientId               110527 non-null  object\n",
      " 1   AppointmentID           110527 non-null  object\n",
      " 2   Gender                  110527 non-null  object\n",
      " 3   ScheduledDay            110527 non-null  object\n",
      " 4   AppointmentDay          110527 non-null  object\n",
      " 5   Age                     110527 non-null  int64 \n",
      " 6   SMSReceived             110527 non-null  int64 \n",
      " 7   Show                    110527 non-null  int64 \n",
      " 8   ScheduledToAppointment  110527 non-null  int16 \n",
      "dtypes: int16(1), int64(3), object(5)\n",
      "memory usage: 7.0+ MB\n"
     ]
    }
   ],
   "source": [
    "nsa.info()"
   ]
  },
  {
   "cell_type": "code",
   "execution_count": 14,
   "metadata": {},
   "outputs": [
    {
     "data": {
      "text/plain": [
       "PatientId                  62299\n",
       "AppointmentID             110527\n",
       "Gender                         2\n",
       "ScheduledDay                 111\n",
       "AppointmentDay                27\n",
       "Age                          104\n",
       "SMSReceived                    2\n",
       "Show                           2\n",
       "ScheduledToAppointment       131\n",
       "dtype: int64"
      ]
     },
     "execution_count": 14,
     "metadata": {},
     "output_type": "execute_result"
    }
   ],
   "source": [
    "nsa.nunique() "
   ]
  },
  {
   "cell_type": "code",
   "execution_count": 15,
   "metadata": {},
   "outputs": [
    {
     "data": {
      "image/png": "[encoded data removed]",
      "text/plain": [
       "<Figure size 720x576 with 4 Axes>"
      ]
     },
     "metadata": {
      "needs_background": "light"
     },
     "output_type": "display_data"
    }
   ],
   "source": [
    "nsa.hist(figsize=(10,8));"
   ]
  },
  {
   "cell_type": "markdown",
   "metadata": {},
   "source": [
    "### Checking if there is any wrong or missing data"
   ]
  },
  {
   "cell_type": "code",
   "execution_count": 16,
   "metadata": {},
   "outputs": [
    {
     "data": {
      "text/plain": [
       "PatientId                 0\n",
       "AppointmentID             0\n",
       "Gender                    0\n",
       "ScheduledDay              0\n",
       "AppointmentDay            0\n",
       "Age                       0\n",
       "SMSReceived               0\n",
       "Show                      0\n",
       "ScheduledToAppointment    0\n",
       "dtype: int64"
      ]
     },
     "execution_count": 16,
     "metadata": {},
     "output_type": "execute_result"
    }
   ],
   "source": [
    "#check if there is any NaN values in our dataset\n",
    "show_null = nsa.isnull().sum() \n",
    "show_null"
   ]
  },
  {
   "cell_type": "code",
   "execution_count": 17,
   "metadata": {},
   "outputs": [
    {
     "data": {
      "text/plain": [
       "59        0\n",
       "63        0\n",
       "64        0\n",
       "65        0\n",
       "67        0\n",
       "         ..\n",
       "110345    0\n",
       "110346    0\n",
       "110454    0\n",
       "110460    0\n",
       "110507    0\n",
       "Name: Age, Length: 3539, dtype: int64"
      ]
     },
     "execution_count": 17,
     "metadata": {},
     "output_type": "execute_result"
    }
   ],
   "source": [
    "#check if there is any zero ages \n",
    "show_zero = nsa['Age'][(nsa[['Age']] == 0).all(axis=1)]  \n",
    "show_zero"
   ]
  },
  {
   "cell_type": "code",
   "execution_count": 18,
   "metadata": {},
   "outputs": [
    {
     "data": {
      "text/plain": [
       "58014    102\n",
       "63912    115\n",
       "63915    115\n",
       "68127    115\n",
       "76284    115\n",
       "90372    102\n",
       "97666    115\n",
       "Name: Age, dtype: int64"
      ]
     },
     "execution_count": 18,
     "metadata": {},
     "output_type": "execute_result"
    }
   ],
   "source": [
    "#check if there is very old ages\n",
    "show_old = nsa['Age'][(nsa[['Age']] > 100).all(axis=1)] \n",
    "show_old"
   ]
  },
  {
   "cell_type": "code",
   "execution_count": 19,
   "metadata": {},
   "outputs": [
    {
     "data": {
      "text/plain": [
       "99832   -1\n",
       "Name: Age, dtype: int64"
      ]
     },
     "execution_count": 19,
     "metadata": {},
     "output_type": "execute_result"
    }
   ],
   "source": [
    "#check if there is any minus ages \n",
    "show_minus = nsa['Age'][(nsa[['Age']] < 0).all(axis=1)] \n",
    "show_minus"
   ]
  },
  {
   "cell_type": "code",
   "execution_count": 20,
   "metadata": {},
   "outputs": [
    {
     "data": {
      "text/plain": [
       "27033   -1\n",
       "55226   -1\n",
       "64175   -1\n",
       "71533   -6\n",
       "72362   -1\n",
       "Name: ScheduledToAppointment, dtype: int16"
      ]
     },
     "execution_count": 20,
     "metadata": {},
     "output_type": "execute_result"
    }
   ],
   "source": [
    "#check if there is any minus days between Scheduled day and Appointment day\n",
    "nsa['ScheduledToAppointment'][(nsa[['ScheduledToAppointment']] < 0).all(axis=1)]"
   ]
  },
  {
   "cell_type": "markdown",
   "metadata": {},
   "source": [
    "in this part of our project we load and discoverd the data, check for cleanliness, and then trim and clean our dataset for analysis."
   ]
  },
  {
   "cell_type": "markdown",
   "metadata": {},
   "source": [
    "### Doing some calculations for 'NoShow' , 'Gender' and 'SMSReceived' columns."
   ]
  },
  {
   "cell_type": "code",
   "execution_count": 21,
   "metadata": {},
   "outputs": [],
   "source": [
    "# returning a number of patints who shows and who did not (did use it)\n",
    "showing_counts = nsa[\"Show\"].value_counts()\n",
    "show_counts = showing_counts[1] \n",
    "no_show_counts = showing_counts[0] \n",
    "\n",
    "# returning a table with patints who shows or who did not\n",
    "didshow= nsa [nsa.Show == True]\n",
    "did_not_show= nsa [nsa.Show == False]\n",
    "\n",
    "# creating masks with patints who shows or who did not\n",
    "didNotShow = nsa.Show == False\n",
    "didShow = nsa.Show == True"
   ]
  },
  {
   "cell_type": "code",
   "execution_count": 22,
   "metadata": {},
   "outputs": [],
   "source": [
    "# returning a number of males and females \n",
    "gender_counts = nsa[\"Gender\"].value_counts()\n",
    "female_counts = gender_counts['F']\n",
    "male_counts = gender_counts['M']\n",
    "\n",
    "# returning a table with only males or only females\n",
    "male_gender = nsa [nsa[\"Gender\"] == ('M')]\n",
    "female_gender = nsa [nsa[\"Gender\"] == ('F')]"
   ]
  },
  {
   "cell_type": "code",
   "execution_count": 23,
   "metadata": {},
   "outputs": [],
   "source": [
    "# returning a total number of receiving SMS or not \n",
    "SMS_counts = nsa[\"SMSReceived\"].value_counts()\n",
    "one_counts = gender_counts[1]\n",
    "zero_counts = gender_counts[0]\n",
    "\n",
    "# returning a table with males or females only\n",
    "didNotReceived = nsa [nsa[\"SMSReceived\"] == (0)]\n",
    "didReceived = nsa [nsa[\"SMSReceived\"] == (1)]"
   ]
  },
  {
   "cell_type": "markdown",
   "metadata": {},
   "source": [
    "In the above set of code cells, We did some calculations on the 'NoShow' column by counting the number of patients who shows and who did not. also, returning new separate tables for only the patients who show or only who did not.\n",
    "\n",
    "We did the same for the 'Gender' and 'SMSReceived' columns, so we count the total number for each value and returning new separate tables for these values."
   ]
  },
  {
   "cell_type": "markdown",
   "metadata": {},
   "source": [
    "### Data Cleaning\n",
    "\n",
    "#### Replacing the Zero and Minus ages with the age mean"
   ]
  },
  {
   "cell_type": "code",
   "execution_count": 24,
   "metadata": {},
   "outputs": [
    {
     "name": "stdout",
     "output_type": "stream",
     "text": [
      "37\n"
     ]
    }
   ],
   "source": [
    "age_mean = nsa['Age'].mean() # find the 'Age' mean \n",
    "age_mean = (round(age_mean)) # convert the mean to the nearest integer \n",
    "print(age_mean) "
   ]
  },
  {
   "cell_type": "code",
   "execution_count": 25,
   "metadata": {},
   "outputs": [],
   "source": [
    "nsa['Age'] = nsa['Age'].replace( 0, age_mean) #replace the 0 values to the age_mean\n",
    "nsa['Age'] = nsa['Age'].replace( -1, age_mean) #replace the -1 value to the age_mean"
   ]
  },
  {
   "cell_type": "code",
   "execution_count": 26,
   "metadata": {},
   "outputs": [
    {
     "data": {
      "text/plain": [
       "PatientId                 465943158731293.0\n",
       "AppointmentID                       5775010\n",
       "Gender                                    F\n",
       "ScheduledDay                     2016-06-06\n",
       "AppointmentDay                   2016-06-06\n",
       "Age                                      37\n",
       "SMSReceived                               0\n",
       "Show                                      1\n",
       "ScheduledToAppointment                    0\n",
       "Name: 99832, dtype: object"
      ]
     },
     "execution_count": 26,
     "metadata": {},
     "output_type": "execute_result"
    }
   ],
   "source": [
    "nsa.loc[ 99832 , : ] # check if the minus value changed "
   ]
  },
  {
   "cell_type": "code",
   "execution_count": 27,
   "metadata": {},
   "outputs": [
    {
     "data": {
      "text/plain": [
       "Series([], Name: Age, dtype: int64)"
      ]
     },
     "execution_count": 27,
     "metadata": {},
     "output_type": "execute_result"
    }
   ],
   "source": [
    "nsa['Age'][(nsa[['Age']] == 0).all(axis=1)]  #check if there is any zero ages "
   ]
  },
  {
   "cell_type": "markdown",
   "metadata": {},
   "source": [
    "#### Replacing the Minus values for 'ScheduledToAppointment' with it's mean"
   ]
  },
  {
   "cell_type": "code",
   "execution_count": 28,
   "metadata": {},
   "outputs": [
    {
     "name": "stdout",
     "output_type": "stream",
     "text": [
      "10\n"
     ]
    }
   ],
   "source": [
    "days_mean = nsa['ScheduledToAppointment'].mean() # find the 'ScheduledToAppointment' mean \n",
    "days_mean = days_mean.astype(int) # convert the mean to integer \n",
    "print(days_mean) "
   ]
  },
  {
   "cell_type": "code",
   "execution_count": 29,
   "metadata": {},
   "outputs": [],
   "source": [
    "#replace the -1 value to the days_mean\n",
    "nsa['ScheduledToAppointment'] = nsa['ScheduledToAppointment'].replace( [-1, -6], days_mean)"
   ]
  },
  {
   "cell_type": "code",
   "execution_count": 30,
   "metadata": {},
   "outputs": [
    {
     "data": {
      "text/plain": [
       "Series([], Name: ScheduledToAppointment, dtype: int64)"
      ]
     },
     "execution_count": 30,
     "metadata": {},
     "output_type": "execute_result"
    }
   ],
   "source": [
    "# check if the minus value changed \n",
    "nsa['ScheduledToAppointment'][(nsa[['ScheduledToAppointment']] < 0).all(axis=1)]"
   ]
  },
  {
   "cell_type": "markdown",
   "metadata": {},
   "source": [
    "After discussed the structure of the data and the problems that need to be cleaned, we performed those cleaning steps in the above part."
   ]
  },
  {
   "cell_type": "markdown",
   "metadata": {},
   "source": [
    "<a id='eda'></a>\n",
    "## Exploratory Data Analysis\n",
    "\n",
    "\n",
    "In the exploration part, After trimmed and cleaned our data we will Compute statistics and create visualizations with the goal of addressing the following research questions."
   ]
  },
  {
   "cell_type": "markdown",
   "metadata": {},
   "source": [
    "##### Getting a Visual Representation of the Correlation Matrix using Seaborn and Matplotlib"
   ]
  },
  {
   "cell_type": "code",
   "execution_count": 41,
   "metadata": {},
   "outputs": [
    {
     "data": {
      "image/png": "[encoded data removed]",
      "text/plain": [
       "<Figure size 432x288 with 2 Axes>"
      ]
     },
     "metadata": {
      "needs_background": "light"
     },
     "output_type": "display_data"
    }
   ],
   "source": [
    "def histogram_intersection(df):\n",
    "\n",
    "    corrMatrix = df.corr()\n",
    "\n",
    "    sn.heatmap(corrMatrix, annot=True)\n",
    "    plt.title(\"Relationship Between Dataset Columns\", y=1.02, fontsize=10);\n",
    "    v = plt.show()\n",
    "    return v\n",
    "\n",
    "\n",
    "histogram_intersection(nsa)"
   ]
  },
  {
   "cell_type": "markdown",
   "metadata": {},
   "source": [
    "This scatter plot or correlation matrix is to show the relationship between Age, SMSReceived, Show and ScheduledToAppointment."
   ]
  },
  {
   "cell_type": "markdown",
   "metadata": {},
   "source": [
    "### What is the ***percentage*** of attending or not attending the appointments?"
   ]
  },
  {
   "cell_type": "code",
   "execution_count": 31,
   "metadata": {},
   "outputs": [
    {
     "data": {
      "image/png": "[encoded data removed]",
      "text/plain": [
       "<Figure size 432x288 with 1 Axes>"
      ]
     },
     "metadata": {},
     "output_type": "display_data"
    }
   ],
   "source": [
    "# Data to plot\n",
    "labels = 'Not Show', 'Show'\n",
    "sizes = [no_show_counts, show_counts]\n",
    "colors = ['lightcoral', 'yellowgreen']\n",
    "explode = (0.1, 0 )  # explode 1st slice\n",
    " \n",
    "# Plot\n",
    "plt.pie(sizes, explode=explode, labels=labels, colors=colors,\n",
    "        autopct='%1.1f%%', shadow=True, startangle=140)\n",
    "\n",
    "plt.title(\"people who attend or not their appointments\", y=1.02, fontsize=10);\n",
    "plt.axis('equal')\n",
    "plt.show()"
   ]
  },
  {
   "cell_type": "markdown",
   "metadata": {},
   "source": [
    "this pie-chart shows the percentage of attending the appointments or not, and we notice that there is ***20.2%*** of patients didn't show on the appointments and ***79.8%*** for the people who attend. the next charts will illustrate not attending these appointments and find a solutions for that or predict the people who will not attend in the future."
   ]
  },
  {
   "cell_type": "markdown",
   "metadata": {},
   "source": [
    "### Which gender have more commitment to attend the appointment?"
   ]
  },
  {
   "cell_type": "code",
   "execution_count": 32,
   "metadata": {},
   "outputs": [
    {
     "data": {
      "image/png": "[encoded data removed]",
      "text/plain": [
       "<Figure size 432x288 with 1 Axes>"
      ]
     },
     "metadata": {
      "needs_background": "light"
     },
     "output_type": "display_data"
    },
    {
     "data": {
      "image/png": "[encoded data removed]",
      "text/plain": [
       "<Figure size 432x288 with 1 Axes>"
      ]
     },
     "metadata": {
      "needs_background": "light"
     },
     "output_type": "display_data"
    }
   ],
   "source": [
    "showToGender = nsa.groupby(['Gender', 'Show']).size().plot(kind='bar',stacked=False)\n",
    "showToGender.set_xlabel(\"Gender who show or not\")\n",
    "showToGender.set_ylabel(\"No. of people for each \")\n",
    "plt.title(\"Gender per Patients Who Attend or Not\", y=1.02, fontsize=14)\n",
    "plt.show()\n",
    "\n",
    "\n",
    "GenderPerNo = nsa['Gender'].hist(); #there is females more that males\n",
    "GenderPerNo.set_xlabel(\"Number of females and males \")\n",
    "plt.title(\"Gender Per No. of Patients\", y=1.02, fontsize=14)\n",
    "plt.show()"
   ]
  },
  {
   "cell_type": "markdown",
   "metadata": {},
   "source": [
    "The above graph shows that the number of females is greater than males. So we will compare between the (f, 1) which is the females did show and (f, 0) which is the female who did not show, and the same for (M, 1) and (M, 0).\n",
    "\n",
    "We notice that **Females are more committed than males**, And that is because of the number of females who show almost four times bigger than females who did not show. And for males who show only three times bigger than those who did not."
   ]
  },
  {
   "cell_type": "markdown",
   "metadata": {},
   "source": [
    "### Does age affect the attendance of appointments?"
   ]
  },
  {
   "cell_type": "code",
   "execution_count": 33,
   "metadata": {},
   "outputs": [
    {
     "data": {
      "image/png": "[encoded data removed]",
      "text/plain": [
       "<Figure size 432x288 with 1 Axes>"
      ]
     },
     "metadata": {
      "needs_background": "light"
     },
     "output_type": "display_data"
    },
    {
     "data": {
      "image/png": "[encoded data removed]",
      "text/plain": [
       "<Figure size 432x288 with 1 Axes>"
      ]
     },
     "metadata": {
      "needs_background": "light"
     },
     "output_type": "display_data"
    }
   ],
   "source": [
    "showToAge = nsa.Age[didNotShow].hist(alpha=0.9 ,label='Did Not Show')\n",
    "showToAge = nsa.Age[didShow].hist(alpha=0.4 ,label='Did Show')\n",
    "showToAge.set_xlabel(\"Age\")\n",
    "showToAge.set_ylabel(\"No. of Patients\")\n",
    "plt.title(\"Age per Patients Who Attend or Not\", y=1.02, fontsize=14)\n",
    "plt.legend();\n",
    "\n",
    "\n",
    "# the Age deferences histogram \n",
    "PeoplePerAge = nsa[['Age']].plot( kind='hist',bins=[0,20,40,60,80,100],rwidth=0.8) \n",
    "PeoplePerAge.set_xlabel(\"Age\")\n",
    "PeoplePerAge.set_ylabel(\"No. of Patients\")\n",
    "plt.title(\"No. of Patients For Each Age\", y=1.02, fontsize=14)\n",
    "plt.show()"
   ]
  },
  {
   "cell_type": "markdown",
   "metadata": {},
   "source": [
    "The first chart shows that **Age is an affecting factor for the attending appointments**. As seen for the second graph,we have a different number of people per each age. but we can notice that the kids between 0-12years are showing on appointments more than people between 12-23. and people between 35-46 are committed more than between 23-35 on attending their appointments."
   ]
  },
  {
   "cell_type": "markdown",
   "metadata": {},
   "source": [
    "### Is sending reminder messages helps the patient to remember and attend the appointments?"
   ]
  },
  {
   "cell_type": "code",
   "execution_count": 34,
   "metadata": {},
   "outputs": [
    {
     "data": {
      "image/png": "[encoded data removed]",
      "text/plain": [
       "<Figure size 432x288 with 1 Axes>"
      ]
     },
     "metadata": {
      "needs_background": "light"
     },
     "output_type": "display_data"
    }
   ],
   "source": [
    "#the SMS Recived histogram\n",
    "sizes = ['Show']\n",
    "colors = ['lightcoral', 'yellowgreen']\n",
    "ShowToSMS = nsa.groupby(['Show', 'SMSReceived']).size().unstack().plot( kind='bar', color=colors )\n",
    "ShowToSMS.set_xlabel(\"People who show or not\")\n",
    "ShowToSMS.set_ylabel(\"No. of Patients\")\n",
    "plt.title(\"SMS Received Per People Who Attend or Not\", y=1.02, fontsize=14)\n",
    "plt.show()"
   ]
  },
  {
   "cell_type": "code",
   "execution_count": 35,
   "metadata": {},
   "outputs": [
    {
     "data": {
      "text/html": [
       "<div>\n",
       "<style scoped>\n",
       "    .dataframe tbody tr th:only-of-type {\n",
       "        vertical-align: middle;\n",
       "    }\n",
       "\n",
       "    .dataframe tbody tr th {\n",
       "        vertical-align: top;\n",
       "    }\n",
       "\n",
       "    .dataframe thead th {\n",
       "        text-align: right;\n",
       "    }\n",
       "</style>\n",
       "<table border=\"1\" class=\"dataframe\">\n",
       "  <thead>\n",
       "    <tr style=\"text-align: right;\">\n",
       "      <th>SMSReceived</th>\n",
       "      <th>0</th>\n",
       "      <th>1</th>\n",
       "    </tr>\n",
       "    <tr>\n",
       "      <th>Show</th>\n",
       "      <th></th>\n",
       "      <th></th>\n",
       "    </tr>\n",
       "  </thead>\n",
       "  <tbody>\n",
       "    <tr>\n",
       "      <th>0</th>\n",
       "      <td>12535</td>\n",
       "      <td>9784</td>\n",
       "    </tr>\n",
       "    <tr>\n",
       "      <th>1</th>\n",
       "      <td>62510</td>\n",
       "      <td>25698</td>\n",
       "    </tr>\n",
       "  </tbody>\n",
       "</table>\n",
       "</div>"
      ],
      "text/plain": [
       "SMSReceived      0      1\n",
       "Show                     \n",
       "0            12535   9784\n",
       "1            62510  25698"
      ]
     },
     "execution_count": 35,
     "metadata": {},
     "output_type": "execute_result"
    }
   ],
   "source": [
    "nsa.groupby(['Show', 'SMSReceived']).size().unstack()"
   ]
  },
  {
   "cell_type": "markdown",
   "metadata": {},
   "source": [
    "This bar graph illustrates the relation between receiving messages and attending appointments. The 0 values in the X axis represent people who didn't show and 1 for people who show. We know that number of people who received 0 messages is more that who received 1. In this case, we will answer our question by comparing the people who don't show and people who show separately. So for the people who show there is a bigger difference between who received 1 and 0 message. And for the people who don't show it almost the same between who received message or not, So the answer is: **receiving SMS doesn't positively affect showing on appointments**."
   ]
  },
  {
   "cell_type": "markdown",
   "metadata": {},
   "source": [
    "### Is scheduling the appointment long time before will affect attending?"
   ]
  },
  {
   "cell_type": "code",
   "execution_count": 36,
   "metadata": {},
   "outputs": [
    {
     "data": {
      "image/png": "[encoded data removed]",
      "text/plain": [
       "<Figure size 432x288 with 1 Axes>"
      ]
     },
     "metadata": {
      "needs_background": "light"
     },
     "output_type": "display_data"
    }
   ],
   "source": [
    "showSMS = nsa.ScheduledToAppointment[didNotShow].hist(alpha=0.5, bins=20 ,label='did not show', color='green')\n",
    "showSMS = nsa.ScheduledToAppointment[didShow].hist(alpha=0.5,  bins=20 ,label='did show')\n",
    "showSMS.set_xlabel(\"Days between Scheduled day and Appointment day\")\n",
    "showSMS.set_ylabel(\"No. of People\")\n",
    "plt.title(\"Days per people who show or not\", y=1.02, fontsize=14)\n",
    "plt.legend();"
   ]
  },
  {
   "cell_type": "markdown",
   "metadata": {},
   "source": [
    "This histogram shows that most of the people scheduled their appointment very short time before it's date, And it's cleared by the chart that most people attend their appointments when they scheduled it on the same day of the appointment and vise versa if they sceduled a long time before.\n",
    "\n",
    "So, our answer is YES"
   ]
  },
  {
   "cell_type": "markdown",
   "metadata": {},
   "source": [
    "### What factors are important for us to know in order to predict if a patient will show up for their scheduled appointment?"
   ]
  },
  {
   "cell_type": "markdown",
   "metadata": {},
   "source": [
    "by doing the above calculations and visualizations, we came up that we can predict if a patient will show up for their scheduled appointment by ***Scheduling Date, Age, and Gender*** factors."
   ]
  },
  {
   "cell_type": "markdown",
   "metadata": {},
   "source": [
    "And now, we answered all of our questions by computed some statistics and created visualizations to make it easier to understand for all people."
   ]
  },
  {
   "cell_type": "markdown",
   "metadata": {},
   "source": [
    "<a id='conclusions'></a>\n",
    "## Conclusions\n",
    "\n",
    "In conclusions, We found the main factors that affect patient show up by wrangling the data, Also, We encounter some limits on data usability when we first obtain it like wrong and missing values and we solved that by cleaning the data and finally we moved to explore our data by answering 6 of our questions and creating visualizations for them.\n",
    "\n",
    "### Limitations\n",
    "\n",
    "there is a few limitations of our dataset:\n",
    "\n",
    "- It would be interisting if there is a column for reviw or rate for the previos appointment.\n",
    "- It would be more accurate if the appointment time provided with appointment data.\n",
    "- It would be interisting if we know the individual education for each appointment."
   ]
  },
  {
   "cell_type": "markdown",
   "metadata": {},
   "source": [
    "<a id='bibliography'></a>\n",
    "## Bibliography\n",
    "\n",
    "[1] https://www.udacity.com/\n",
    "\n",
    "[2] https://pandas.pydata.org/pandas-docs/version/0.23.4/generated/pandas.DataFrame.plot.html\n"
   ]
  }
 ],
 "metadata": {
  "kernelspec": {
   "display_name": "Python 3",
   "language": "python",
   "name": "python3"
  },
  "language_info": {
   "codemirror_mode": {
    "name": "ipython",
    "version": 3
   },
   "file_extension": ".py",
   "mimetype": "text/x-python",
   "name": "python",
   "nbconvert_exporter": "python",
   "pygments_lexer": "ipython3",
   "version": "3.7.6"
  }
 },
 "nbformat": 4,
 "nbformat_minor": 4
}
